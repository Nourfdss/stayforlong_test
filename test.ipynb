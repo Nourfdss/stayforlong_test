{
 "cells": [
  {
   "cell_type": "markdown",
   "id": "dc75cc9c",
   "metadata": {},
   "source": [
    "<h1>Data Engineering Test<h1>"
   ]
  },
  {
   "cell_type": "code",
   "execution_count": 172,
   "id": "43d0d61e",
   "metadata": {},
   "outputs": [],
   "source": [
    "import pandas as pd\n",
    "import numpy as np"
   ]
  },
  {
   "cell_type": "code",
   "execution_count": 173,
   "id": "7421ac78",
   "metadata": {},
   "outputs": [
    {
     "data": {
      "text/html": [
       "<div>\n",
       "<style scoped>\n",
       "    .dataframe tbody tr th:only-of-type {\n",
       "        vertical-align: middle;\n",
       "    }\n",
       "\n",
       "    .dataframe tbody tr th {\n",
       "        vertical-align: top;\n",
       "    }\n",
       "\n",
       "    .dataframe thead th {\n",
       "        text-align: right;\n",
       "    }\n",
       "</style>\n",
       "<table border=\"1\" class=\"dataframe\">\n",
       "  <thead>\n",
       "    <tr style=\"text-align: right;\">\n",
       "      <th></th>\n",
       "      <th>hotel</th>\n",
       "      <th>is_canceled</th>\n",
       "      <th>booking_to_arrival_time</th>\n",
       "      <th>arrival_date_year</th>\n",
       "      <th>arrival_date_month</th>\n",
       "      <th>arrival_date_week_number</th>\n",
       "      <th>arrival_date_day_of_month</th>\n",
       "      <th>stays_in_weekend_nights</th>\n",
       "      <th>stays_in_week_nights</th>\n",
       "      <th>adults</th>\n",
       "      <th>...</th>\n",
       "      <th>deposit_type</th>\n",
       "      <th>agent</th>\n",
       "      <th>company</th>\n",
       "      <th>days_in_waiting_list</th>\n",
       "      <th>customer_type</th>\n",
       "      <th>adr</th>\n",
       "      <th>parking_lot</th>\n",
       "      <th>total_of_special_requests</th>\n",
       "      <th>reservation_status</th>\n",
       "      <th>reservation_status_date</th>\n",
       "    </tr>\n",
       "  </thead>\n",
       "  <tbody>\n",
       "    <tr>\n",
       "      <th>0</th>\n",
       "      <td>Apartment</td>\n",
       "      <td>0</td>\n",
       "      <td>277</td>\n",
       "      <td>2015</td>\n",
       "      <td>October</td>\n",
       "      <td>41</td>\n",
       "      <td>6</td>\n",
       "      <td>2</td>\n",
       "      <td>5</td>\n",
       "      <td>2</td>\n",
       "      <td>...</td>\n",
       "      <td>No Deposit</td>\n",
       "      <td>273.0</td>\n",
       "      <td>NaN</td>\n",
       "      <td>0</td>\n",
       "      <td>Transient-Party</td>\n",
       "      <td>77.29</td>\n",
       "      <td>0</td>\n",
       "      <td>0</td>\n",
       "      <td>Check-Out</td>\n",
       "      <td>2015-10-13</td>\n",
       "    </tr>\n",
       "    <tr>\n",
       "      <th>1</th>\n",
       "      <td>Hotel</td>\n",
       "      <td>1</td>\n",
       "      <td>109</td>\n",
       "      <td>2016</td>\n",
       "      <td>February</td>\n",
       "      <td>9</td>\n",
       "      <td>21</td>\n",
       "      <td>2</td>\n",
       "      <td>1</td>\n",
       "      <td>2</td>\n",
       "      <td>...</td>\n",
       "      <td>Non Refund</td>\n",
       "      <td>19.0</td>\n",
       "      <td>NaN</td>\n",
       "      <td>44</td>\n",
       "      <td>Transient</td>\n",
       "      <td>75.00</td>\n",
       "      <td>0</td>\n",
       "      <td>0</td>\n",
       "      <td>Canceled</td>\n",
       "      <td>2015-12-18</td>\n",
       "    </tr>\n",
       "    <tr>\n",
       "      <th>2</th>\n",
       "      <td>Hotel</td>\n",
       "      <td>0</td>\n",
       "      <td>102</td>\n",
       "      <td>2015</td>\n",
       "      <td>October</td>\n",
       "      <td>42</td>\n",
       "      <td>16</td>\n",
       "      <td>0</td>\n",
       "      <td>2</td>\n",
       "      <td>2</td>\n",
       "      <td>...</td>\n",
       "      <td>No Deposit</td>\n",
       "      <td>6.0</td>\n",
       "      <td>NaN</td>\n",
       "      <td>0</td>\n",
       "      <td>Transient-Party</td>\n",
       "      <td>109.00</td>\n",
       "      <td>0</td>\n",
       "      <td>0</td>\n",
       "      <td>Check-Out</td>\n",
       "      <td>2015-10-18</td>\n",
       "    </tr>\n",
       "    <tr>\n",
       "      <th>3</th>\n",
       "      <td>Apartment</td>\n",
       "      <td>1</td>\n",
       "      <td>35</td>\n",
       "      <td>2017</td>\n",
       "      <td>April</td>\n",
       "      <td>15</td>\n",
       "      <td>13</td>\n",
       "      <td>1</td>\n",
       "      <td>3</td>\n",
       "      <td>2</td>\n",
       "      <td>...</td>\n",
       "      <td>No Deposit</td>\n",
       "      <td>240.0</td>\n",
       "      <td>NaN</td>\n",
       "      <td>0</td>\n",
       "      <td>Transient</td>\n",
       "      <td>162.00</td>\n",
       "      <td>0</td>\n",
       "      <td>0</td>\n",
       "      <td>Canceled</td>\n",
       "      <td>2017-03-09</td>\n",
       "    </tr>\n",
       "    <tr>\n",
       "      <th>4</th>\n",
       "      <td>Hotel</td>\n",
       "      <td>1</td>\n",
       "      <td>164</td>\n",
       "      <td>2017</td>\n",
       "      <td>June</td>\n",
       "      <td>24</td>\n",
       "      <td>14</td>\n",
       "      <td>0</td>\n",
       "      <td>3</td>\n",
       "      <td>2</td>\n",
       "      <td>...</td>\n",
       "      <td>No Deposit</td>\n",
       "      <td>14.0</td>\n",
       "      <td>NaN</td>\n",
       "      <td>0</td>\n",
       "      <td>Transient</td>\n",
       "      <td>117.00</td>\n",
       "      <td>0</td>\n",
       "      <td>0</td>\n",
       "      <td>Canceled</td>\n",
       "      <td>2017-06-12</td>\n",
       "    </tr>\n",
       "  </tbody>\n",
       "</table>\n",
       "<p>5 rows × 32 columns</p>\n",
       "</div>"
      ],
      "text/plain": [
       "       hotel  is_canceled  booking_to_arrival_time  arrival_date_year  \\\n",
       "0  Apartment            0                      277               2015   \n",
       "1      Hotel            1                      109               2016   \n",
       "2      Hotel            0                      102               2015   \n",
       "3  Apartment            1                       35               2017   \n",
       "4      Hotel            1                      164               2017   \n",
       "\n",
       "  arrival_date_month  arrival_date_week_number  arrival_date_day_of_month  \\\n",
       "0            October                        41                          6   \n",
       "1           February                         9                         21   \n",
       "2            October                        42                         16   \n",
       "3              April                        15                         13   \n",
       "4               June                        24                         14   \n",
       "\n",
       "   stays_in_weekend_nights  stays_in_week_nights  adults  ...  deposit_type  \\\n",
       "0                        2                     5       2  ...    No Deposit   \n",
       "1                        2                     1       2  ...    Non Refund   \n",
       "2                        0                     2       2  ...    No Deposit   \n",
       "3                        1                     3       2  ...    No Deposit   \n",
       "4                        0                     3       2  ...    No Deposit   \n",
       "\n",
       "   agent company days_in_waiting_list    customer_type     adr  parking_lot  \\\n",
       "0  273.0     NaN                    0  Transient-Party   77.29            0   \n",
       "1   19.0     NaN                   44        Transient   75.00            0   \n",
       "2    6.0     NaN                    0  Transient-Party  109.00            0   \n",
       "3  240.0     NaN                    0        Transient  162.00            0   \n",
       "4   14.0     NaN                    0        Transient  117.00            0   \n",
       "\n",
       "   total_of_special_requests  reservation_status reservation_status_date  \n",
       "0                          0           Check-Out              2015-10-13  \n",
       "1                          0            Canceled              2015-12-18  \n",
       "2                          0           Check-Out              2015-10-18  \n",
       "3                          0            Canceled              2017-03-09  \n",
       "4                          0            Canceled              2017-06-12  \n",
       "\n",
       "[5 rows x 32 columns]"
      ]
     },
     "execution_count": 173,
     "metadata": {},
     "output_type": "execute_result"
    }
   ],
   "source": [
    "Data = pd.read_csv('stayforlong_bookings.csv') \n",
    "\n",
    "\n",
    "\n",
    "df = Data.copy()\n",
    "df.head()"
   ]
  },
  {
   "cell_type": "code",
   "execution_count": 174,
   "id": "70b19e9b",
   "metadata": {},
   "outputs": [
    {
     "data": {
      "text/plain": [
       "hotel                              object\n",
       "is_canceled                         int64\n",
       "booking_to_arrival_time             int64\n",
       "arrival_date_year                   int64\n",
       "arrival_date_month                 object\n",
       "arrival_date_week_number            int64\n",
       "arrival_date_day_of_month           int64\n",
       "stays_in_weekend_nights             int64\n",
       "stays_in_week_nights                int64\n",
       "adults                              int64\n",
       "children                          float64\n",
       "babies                              int64\n",
       "board                              object\n",
       "country                            object\n",
       "market_segment                     object\n",
       "acquisition_channel                object\n",
       "is_repeated_guest                   int64\n",
       "previous_cancellations              int64\n",
       "previous_bookings_not_canceled      int64\n",
       "reserved_room_type                 object\n",
       "assigned_room_type                 object\n",
       "booking_changes                     int64\n",
       "deposit_type                       object\n",
       "agent                             float64\n",
       "company                           float64\n",
       "days_in_waiting_list                int64\n",
       "customer_type                      object\n",
       "adr                               float64\n",
       "parking_lot                         int64\n",
       "total_of_special_requests           int64\n",
       "reservation_status                 object\n",
       "reservation_status_date            object\n",
       "dtype: object"
      ]
     },
     "execution_count": 174,
     "metadata": {},
     "output_type": "execute_result"
    }
   ],
   "source": [
    "##check if the dataset contains a None values##\n",
    "\n",
    "df.isnull().values.any() # reture True so further checking required \n",
    "\n",
    "df.isnull().sum().sort_values()[-5:]\n",
    "\n",
    "Data.dtypes\n",
    "\n"
   ]
  },
  {
   "cell_type": "code",
   "execution_count": 175,
   "id": "017b5642",
   "metadata": {},
   "outputs": [
    {
     "data": {
      "text/plain": [
       "hotel                              object\n",
       "is_canceled                         int64\n",
       "booking_to_arrival_time             int64\n",
       "arrival_date_year                   int64\n",
       "arrival_date_month                 object\n",
       "arrival_date_week_number            int64\n",
       "arrival_date_day_of_month           int64\n",
       "stays_in_weekend_nights             int64\n",
       "stays_in_week_nights                int64\n",
       "adults                              int64\n",
       "children                          float64\n",
       "babies                              int64\n",
       "board                              object\n",
       "country                            object\n",
       "market_segment                     object\n",
       "acquisition_channel                object\n",
       "is_repeated_guest                   int64\n",
       "previous_cancellations              int64\n",
       "previous_bookings_not_canceled      int64\n",
       "reserved_room_type                 object\n",
       "assigned_room_type                 object\n",
       "booking_changes                     int64\n",
       "deposit_type                       object\n",
       "agent                              object\n",
       "company                            object\n",
       "days_in_waiting_list                int64\n",
       "customer_type                      object\n",
       "adr                               float64\n",
       "parking_lot                         int64\n",
       "total_of_special_requests           int64\n",
       "reservation_status                 object\n",
       "reservation_status_date            object\n",
       "dtype: object"
      ]
     },
     "execution_count": 175,
     "metadata": {},
     "output_type": "execute_result"
    }
   ],
   "source": [
    "#missing values from children, comapny, agent (data types float64) country (data types object)\n",
    "\n",
    "df['children'] = df['children'].fillna(0)\n",
    "\n",
    "df[['company', 'agent', 'country']] = df[['company', 'agent', 'country']].fillna('NULL')\n",
    "\n",
    "#df.head()\n",
    "#df.isnull().sum().sort_values()[-5:]\n",
    "df.isnull().sum().sort_values()\n",
    "df.isnull().values.any()\n",
    "\n",
    "df.dtypes\n",
    "\n"
   ]
  },
  {
   "cell_type": "code",
   "execution_count": 176,
   "id": "7195902d",
   "metadata": {},
   "outputs": [],
   "source": [
    "df_guest_orgin = df.copy()"
   ]
  },
  {
   "cell_type": "markdown",
   "id": "18f08f8d",
   "metadata": {},
   "source": [
    "<h2>What are the most popular guest origin countries? <h2>"
   ]
  },
  {
   "cell_type": "code",
   "execution_count": 177,
   "id": "cf7a1aaf",
   "metadata": {},
   "outputs": [
    {
     "data": {
      "text/plain": [
       "country\n",
       "SOM    48590\n",
       "TON    12129\n",
       "GMB    10415\n",
       "WLF     8568\n",
       "DEU     7287\n",
       "ITA     3766\n",
       "COK     3375\n",
       "BEL     2342\n",
       "BRA     2224\n",
       "NLD     2104\n",
       "dtype: int64"
      ]
     },
     "execution_count": 177,
     "metadata": {},
     "output_type": "execute_result"
    }
   ],
   "source": [
    "#df = df[df['is_canceled'] == 0]\n",
    "#country_name = df['country'].unique()\n",
    "\n",
    "#country = Data.groupby(['country']).size().reset_index(name='count').sort_values(ascending=False, by=['count'])\n",
    "country = df_guest_orgin.groupby(['country']).size().sort_values(ascending=False) #.reset_index(name='count').sort_values(ascending=False, by=['count'])\n",
    "\n",
    "#most_popular_guest_orgin\n",
    "#country_name\n",
    "\n",
    "country.head(10)#48499\n"
   ]
  },
  {
   "cell_type": "code",
   "execution_count": 182,
   "id": "40a16e15",
   "metadata": {},
   "outputs": [],
   "source": [
    "#TODO check with the team leader if he wanna looking for confirmed booking or all booking confirmed and canceled"
   ]
  },
  {
   "cell_type": "code",
   "execution_count": 191,
   "id": "fb123f17",
   "metadata": {},
   "outputs": [
    {
     "data": {
      "text/plain": [
       "country\n",
       "SOM    27519\n",
       "TON     2453\n",
       "WLF     2177\n",
       "GMB     1934\n",
       "ITA     1333\n",
       "DEU     1218\n",
       "COK      832\n",
       "BRA      830\n",
       "VUT      501\n",
       "BEL      474\n",
       "dtype: int64"
      ]
     },
     "execution_count": 191,
     "metadata": {},
     "output_type": "execute_result"
    }
   ],
   "source": [
    "# filtering the data by removing the canceled booking\n",
    "\n",
    "country_without_canceltion = df_guest_orgin[df_guest_orgin['is_canceled'] == 1 ]\n",
    "\n",
    "country_without_canceltion_sorted = country_without_canceltion.groupby(['country']).size().sort_values(ascending=False)\n",
    "\n",
    "country_without_canceltion_sorted.head(10)"
   ]
  },
  {
   "cell_type": "code",
   "execution_count": 163,
   "id": "06d0eb70",
   "metadata": {},
   "outputs": [
    {
     "data": {
      "text/html": [
       "<div>\n",
       "<style scoped>\n",
       "    .dataframe tbody tr th:only-of-type {\n",
       "        vertical-align: middle;\n",
       "    }\n",
       "\n",
       "    .dataframe tbody tr th {\n",
       "        vertical-align: top;\n",
       "    }\n",
       "\n",
       "    .dataframe thead th {\n",
       "        text-align: right;\n",
       "    }\n",
       "</style>\n",
       "<table border=\"1\" class=\"dataframe\">\n",
       "  <thead>\n",
       "    <tr style=\"text-align: right;\">\n",
       "      <th></th>\n",
       "      <th>hotel</th>\n",
       "      <th>is_canceled</th>\n",
       "      <th>booking_to_arrival_time</th>\n",
       "      <th>arrival_date_year</th>\n",
       "      <th>arrival_date_month</th>\n",
       "      <th>arrival_date_week_number</th>\n",
       "      <th>arrival_date_day_of_month</th>\n",
       "      <th>stays_in_weekend_nights</th>\n",
       "      <th>stays_in_week_nights</th>\n",
       "      <th>adults</th>\n",
       "      <th>...</th>\n",
       "      <th>agent</th>\n",
       "      <th>company</th>\n",
       "      <th>days_in_waiting_list</th>\n",
       "      <th>customer_type</th>\n",
       "      <th>adr</th>\n",
       "      <th>parking_lot</th>\n",
       "      <th>total_of_special_requests</th>\n",
       "      <th>reservation_status</th>\n",
       "      <th>reservation_status_date</th>\n",
       "      <th>date_combined</th>\n",
       "    </tr>\n",
       "  </thead>\n",
       "  <tbody>\n",
       "    <tr>\n",
       "      <th>0</th>\n",
       "      <td>Apartment</td>\n",
       "      <td>0</td>\n",
       "      <td>277</td>\n",
       "      <td>2015</td>\n",
       "      <td>October</td>\n",
       "      <td>41</td>\n",
       "      <td>6</td>\n",
       "      <td>2</td>\n",
       "      <td>5</td>\n",
       "      <td>2</td>\n",
       "      <td>...</td>\n",
       "      <td>273.0</td>\n",
       "      <td>NULL</td>\n",
       "      <td>0</td>\n",
       "      <td>Transient-Party</td>\n",
       "      <td>77.29</td>\n",
       "      <td>0</td>\n",
       "      <td>0</td>\n",
       "      <td>Check-Out</td>\n",
       "      <td>2015-10-13</td>\n",
       "      <td>6/October/2015</td>\n",
       "    </tr>\n",
       "    <tr>\n",
       "      <th>2</th>\n",
       "      <td>Hotel</td>\n",
       "      <td>0</td>\n",
       "      <td>102</td>\n",
       "      <td>2015</td>\n",
       "      <td>October</td>\n",
       "      <td>42</td>\n",
       "      <td>16</td>\n",
       "      <td>0</td>\n",
       "      <td>2</td>\n",
       "      <td>2</td>\n",
       "      <td>...</td>\n",
       "      <td>6.0</td>\n",
       "      <td>NULL</td>\n",
       "      <td>0</td>\n",
       "      <td>Transient-Party</td>\n",
       "      <td>109.00</td>\n",
       "      <td>0</td>\n",
       "      <td>0</td>\n",
       "      <td>Check-Out</td>\n",
       "      <td>2015-10-18</td>\n",
       "      <td>16/October/2015</td>\n",
       "    </tr>\n",
       "    <tr>\n",
       "      <th>6</th>\n",
       "      <td>Hotel</td>\n",
       "      <td>0</td>\n",
       "      <td>101</td>\n",
       "      <td>2016</td>\n",
       "      <td>May</td>\n",
       "      <td>22</td>\n",
       "      <td>25</td>\n",
       "      <td>0</td>\n",
       "      <td>4</td>\n",
       "      <td>2</td>\n",
       "      <td>...</td>\n",
       "      <td>9.0</td>\n",
       "      <td>NULL</td>\n",
       "      <td>0</td>\n",
       "      <td>Transient-Party</td>\n",
       "      <td>132.60</td>\n",
       "      <td>0</td>\n",
       "      <td>0</td>\n",
       "      <td>Check-Out</td>\n",
       "      <td>2016-05-29</td>\n",
       "      <td>25/May/2016</td>\n",
       "    </tr>\n",
       "    <tr>\n",
       "      <th>7</th>\n",
       "      <td>Hotel</td>\n",
       "      <td>0</td>\n",
       "      <td>246</td>\n",
       "      <td>2017</td>\n",
       "      <td>July</td>\n",
       "      <td>30</td>\n",
       "      <td>29</td>\n",
       "      <td>2</td>\n",
       "      <td>1</td>\n",
       "      <td>2</td>\n",
       "      <td>...</td>\n",
       "      <td>9.0</td>\n",
       "      <td>NULL</td>\n",
       "      <td>0</td>\n",
       "      <td>Transient</td>\n",
       "      <td>125.10</td>\n",
       "      <td>0</td>\n",
       "      <td>2</td>\n",
       "      <td>Check-Out</td>\n",
       "      <td>2017-08-01</td>\n",
       "      <td>29/July/2017</td>\n",
       "    </tr>\n",
       "    <tr>\n",
       "      <th>9</th>\n",
       "      <td>Hotel</td>\n",
       "      <td>0</td>\n",
       "      <td>41</td>\n",
       "      <td>2017</td>\n",
       "      <td>April</td>\n",
       "      <td>17</td>\n",
       "      <td>24</td>\n",
       "      <td>1</td>\n",
       "      <td>3</td>\n",
       "      <td>2</td>\n",
       "      <td>...</td>\n",
       "      <td>85.0</td>\n",
       "      <td>NULL</td>\n",
       "      <td>0</td>\n",
       "      <td>Transient</td>\n",
       "      <td>99.00</td>\n",
       "      <td>0</td>\n",
       "      <td>2</td>\n",
       "      <td>Check-Out</td>\n",
       "      <td>2017-04-28</td>\n",
       "      <td>24/April/2017</td>\n",
       "    </tr>\n",
       "  </tbody>\n",
       "</table>\n",
       "<p>5 rows × 33 columns</p>\n",
       "</div>"
      ],
      "text/plain": [
       "       hotel  is_canceled  booking_to_arrival_time  arrival_date_year  \\\n",
       "0  Apartment            0                      277               2015   \n",
       "2      Hotel            0                      102               2015   \n",
       "6      Hotel            0                      101               2016   \n",
       "7      Hotel            0                      246               2017   \n",
       "9      Hotel            0                       41               2017   \n",
       "\n",
       "  arrival_date_month  arrival_date_week_number  arrival_date_day_of_month  \\\n",
       "0            October                        41                          6   \n",
       "2            October                        42                         16   \n",
       "6                May                        22                         25   \n",
       "7               July                        30                         29   \n",
       "9              April                        17                         24   \n",
       "\n",
       "   stays_in_weekend_nights  stays_in_week_nights  adults  ...  agent  company  \\\n",
       "0                        2                     5       2  ...  273.0     NULL   \n",
       "2                        0                     2       2  ...    6.0     NULL   \n",
       "6                        0                     4       2  ...    9.0     NULL   \n",
       "7                        2                     1       2  ...    9.0     NULL   \n",
       "9                        1                     3       2  ...   85.0     NULL   \n",
       "\n",
       "  days_in_waiting_list    customer_type     adr parking_lot  \\\n",
       "0                    0  Transient-Party   77.29           0   \n",
       "2                    0  Transient-Party  109.00           0   \n",
       "6                    0  Transient-Party  132.60           0   \n",
       "7                    0        Transient  125.10           0   \n",
       "9                    0        Transient   99.00           0   \n",
       "\n",
       "   total_of_special_requests  reservation_status  reservation_status_date  \\\n",
       "0                          0           Check-Out               2015-10-13   \n",
       "2                          0           Check-Out               2015-10-18   \n",
       "6                          0           Check-Out               2016-05-29   \n",
       "7                          2           Check-Out               2017-08-01   \n",
       "9                          2           Check-Out               2017-04-28   \n",
       "\n",
       "     date_combined  \n",
       "0   6/October/2015  \n",
       "2  16/October/2015  \n",
       "6      25/May/2016  \n",
       "7     29/July/2017  \n",
       "9    24/April/2017  \n",
       "\n",
       "[5 rows x 33 columns]"
      ]
     },
     "execution_count": 163,
     "metadata": {},
     "output_type": "execute_result"
    }
   ],
   "source": [
    "\n",
    "\n",
    "#date = Data['arrival_date_month'] +  Data['arrival_date_year']\n",
    "# In[17]:df['combined']=df['bar'].astype(str)+'_'+df['foo']+'_'+df['new']\n",
    "\n",
    "df['date_combined'] = df['arrival_date_day_of_month'].astype(str) + '/' + df['arrival_date_month'] + '/' + df['arrival_date_year'].astype(str)\n",
    "\n",
    "\n",
    "#Data['date_combined'].head()\n",
    "df.head()\n"
   ]
  },
  {
   "cell_type": "markdown",
   "id": "ef4b5f33",
   "metadata": {},
   "source": [
    "<h2>What is the room price per night?<h2>"
   ]
  },
  {
   "cell_type": "code",
   "execution_count": null,
   "id": "698ffdc0",
   "metadata": {},
   "outputs": [],
   "source": [
    "#adr: Booking cost divided by the number of nights. (Average Daily Rate) adr = booking cost / number of nights"
   ]
  },
  {
   "cell_type": "code",
   "execution_count": 192,
   "id": "78ae431b",
   "metadata": {},
   "outputs": [
    {
     "data": {
      "text/html": [
       "<div>\n",
       "<style scoped>\n",
       "    .dataframe tbody tr th:only-of-type {\n",
       "        vertical-align: middle;\n",
       "    }\n",
       "\n",
       "    .dataframe tbody tr th {\n",
       "        vertical-align: top;\n",
       "    }\n",
       "\n",
       "    .dataframe thead th {\n",
       "        text-align: right;\n",
       "    }\n",
       "</style>\n",
       "<table border=\"1\" class=\"dataframe\">\n",
       "  <thead>\n",
       "    <tr style=\"text-align: right;\">\n",
       "      <th></th>\n",
       "      <th>adr</th>\n",
       "      <th>stays_in_weekend_nights</th>\n",
       "      <th>stays_in_week_nights</th>\n",
       "    </tr>\n",
       "  </thead>\n",
       "  <tbody>\n",
       "    <tr>\n",
       "      <th>0</th>\n",
       "      <td>77.29</td>\n",
       "      <td>2</td>\n",
       "      <td>5</td>\n",
       "    </tr>\n",
       "    <tr>\n",
       "      <th>1</th>\n",
       "      <td>75.00</td>\n",
       "      <td>2</td>\n",
       "      <td>1</td>\n",
       "    </tr>\n",
       "    <tr>\n",
       "      <th>2</th>\n",
       "      <td>109.00</td>\n",
       "      <td>0</td>\n",
       "      <td>2</td>\n",
       "    </tr>\n",
       "    <tr>\n",
       "      <th>3</th>\n",
       "      <td>162.00</td>\n",
       "      <td>1</td>\n",
       "      <td>3</td>\n",
       "    </tr>\n",
       "    <tr>\n",
       "      <th>4</th>\n",
       "      <td>117.00</td>\n",
       "      <td>0</td>\n",
       "      <td>3</td>\n",
       "    </tr>\n",
       "    <tr>\n",
       "      <th>...</th>\n",
       "      <td>...</td>\n",
       "      <td>...</td>\n",
       "      <td>...</td>\n",
       "    </tr>\n",
       "    <tr>\n",
       "      <th>119385</th>\n",
       "      <td>135.00</td>\n",
       "      <td>0</td>\n",
       "      <td>3</td>\n",
       "    </tr>\n",
       "    <tr>\n",
       "      <th>119386</th>\n",
       "      <td>65.00</td>\n",
       "      <td>0</td>\n",
       "      <td>2</td>\n",
       "    </tr>\n",
       "    <tr>\n",
       "      <th>119387</th>\n",
       "      <td>164.00</td>\n",
       "      <td>0</td>\n",
       "      <td>2</td>\n",
       "    </tr>\n",
       "    <tr>\n",
       "      <th>119388</th>\n",
       "      <td>130.00</td>\n",
       "      <td>0</td>\n",
       "      <td>1</td>\n",
       "    </tr>\n",
       "    <tr>\n",
       "      <th>119389</th>\n",
       "      <td>76.50</td>\n",
       "      <td>2</td>\n",
       "      <td>1</td>\n",
       "    </tr>\n",
       "  </tbody>\n",
       "</table>\n",
       "<p>119390 rows × 3 columns</p>\n",
       "</div>"
      ],
      "text/plain": [
       "           adr  stays_in_weekend_nights  stays_in_week_nights\n",
       "0        77.29                        2                     5\n",
       "1        75.00                        2                     1\n",
       "2       109.00                        0                     2\n",
       "3       162.00                        1                     3\n",
       "4       117.00                        0                     3\n",
       "...        ...                      ...                   ...\n",
       "119385  135.00                        0                     3\n",
       "119386   65.00                        0                     2\n",
       "119387  164.00                        0                     2\n",
       "119388  130.00                        0                     1\n",
       "119389   76.50                        2                     1\n",
       "\n",
       "[119390 rows x 3 columns]"
      ]
     },
     "execution_count": 192,
     "metadata": {},
     "output_type": "execute_result"
    }
   ],
   "source": [
    "#df_room_price_per_night = df[df['adr' , 'stays_in_weekend_nights']]\n",
    "\n",
    "df_room_price = df[['adr', 'stays_in_weekend_nights', 'stays_in_week_nights']]\n",
    "\n",
    "df_room_price"
   ]
  },
  {
   "cell_type": "code",
   "execution_count": null,
   "id": "4b4de807",
   "metadata": {},
   "outputs": [],
   "source": []
  },
  {
   "cell_type": "markdown",
   "id": "25efa363",
   "metadata": {},
   "source": [
    "<h2>How does the previous price vary throughout the year?<h2>"
   ]
  },
  {
   "cell_type": "code",
   "execution_count": null,
   "id": "fa7719ec",
   "metadata": {},
   "outputs": [],
   "source": [
    "# calcluate the rataion and price different yearly"
   ]
  },
  {
   "cell_type": "code",
   "execution_count": null,
   "id": "19e41ea8",
   "metadata": {},
   "outputs": [],
   "source": [
    "d"
   ]
  },
  {
   "cell_type": "code",
   "execution_count": null,
   "id": "d8f63a3f",
   "metadata": {},
   "outputs": [],
   "source": []
  },
  {
   "cell_type": "code",
   "execution_count": null,
   "id": "523e85b0",
   "metadata": {},
   "outputs": [],
   "source": []
  },
  {
   "cell_type": "markdown",
   "id": "9f69dc7c",
   "metadata": {},
   "source": [
    "<h2>What is the distribution of guests per month?<h2>"
   ]
  },
  {
   "cell_type": "code",
   "execution_count": null,
   "id": "189b375e",
   "metadata": {},
   "outputs": [],
   "source": [
    "# where are the guests locatated monthly , in which hotel are mostly, arrival_date_month is unique "
   ]
  },
  {
   "cell_type": "code",
   "execution_count": 120,
   "id": "a254301a",
   "metadata": {},
   "outputs": [
    {
     "data": {
      "text/plain": [
       "January       5929\n",
       "February      8068\n",
       "March         9794\n",
       "April        11089\n",
       "May          11791\n",
       "June         10939\n",
       "July         12661\n",
       "August       13877\n",
       "September    10508\n",
       "October      11160\n",
       "November      6794\n",
       "December      6780\n",
       "Name: arrival_date_month, dtype: int64"
      ]
     },
     "execution_count": 120,
     "metadata": {},
     "output_type": "execute_result"
    }
   ],
   "source": [
    "months = ['January', 'February', 'March', 'April', 'May', 'June', 'July', 'August', 'September', 'October', 'November', 'December']\n",
    "\n",
    "dist_of_guest = df['arrival_date_month'].value_counts().reindex(months)\n",
    "\n",
    "#dist_of_guest.describe()\n",
    "\n",
    "df2 = dist_of_guest\n",
    "\n",
    "df2"
   ]
  },
  {
   "cell_type": "code",
   "execution_count": 126,
   "id": "9a1d1bb4",
   "metadata": {},
   "outputs": [
    {
     "data": {
      "image/png": "[encoded data removed]",
      "text/plain": [
       "<Figure size 864x576 with 1 Axes>"
      ]
     },
     "metadata": {},
     "output_type": "display_data"
    },
    {
     "data": {
      "text/plain": [
       "<AxesSubplot:>"
      ]
     },
     "execution_count": 126,
     "metadata": {},
     "output_type": "execute_result"
    },
    {
     "data": {
      "image/png": "[encoded data removed]",
      "text/plain": [
       "<Figure size 864x576 with 1 Axes>"
      ]
     },
     "metadata": {},
     "output_type": "display_data"
    }
   ],
   "source": [
    "import matplotlib.pyplot as plt\n",
    "#column='session_duration_seconds', bins=25, grid=False, figsize=(12,8), color='#86bf91', zorder=2, rwidth=0.9\n",
    "df2.hist( bins = 20, grid=False, figsize=(12,8), color='#86bf91', zorder=2, rwidth=0.9)\n",
    "plt.title('Distribution')\n",
    "plt.xlabel('x lable')\n",
    "plt.ylabel('y lable')\n",
    "plt.show()\n",
    "df2.plot(kind=\"barh\", fontsize=14, figsize=(12,8))\n"
   ]
  },
  {
   "cell_type": "code",
   "execution_count": 118,
   "id": "186f87a3",
   "metadata": {},
   "outputs": [
    {
     "name": "stderr",
     "output_type": "stream",
     "text": [
      "/opt/anaconda3/lib/python3.8/site-packages/seaborn/_decorators.py:36: FutureWarning: Pass the following variables as keyword args: x, y. From version 0.12, the only valid positional argument will be `data`, and passing other arguments without an explicit keyword will result in an error or misinterpretation.\n",
      "  warnings.warn(\n"
     ]
    },
    {
     "data": {
      "image/png": "[encoded data removed]",
      "text/plain": [
       "<Figure size 1296x360 with 1 Axes>"
      ]
     },
     "metadata": {},
     "output_type": "display_data"
    }
   ],
   "source": [
    "import matplotlib.pyplot as plt\n",
    "import seaborn as sns\n",
    "\n",
    "x = dist_of_guest.index\n",
    "\n",
    "sns.set_style('whitegrid')\n",
    "fig, ax = plt.subplots(figsize=(18, 5))\n",
    "ax.set_title(\"The distribution of guests per month\")\n",
    "ax.set_xlabel('Months')\n",
    "ax.set_ylabel('Distribution')\n",
    "\n",
    "\n",
    "y=dist_of_guest/dist_of_guest.sum()*100\n",
    "sns.lineplot(x,dist_of_guest/100, ax=ax)\n",
    "\n",
    "plt.show()\n",
    "\n"
   ]
  },
  {
   "cell_type": "markdown",
   "id": "7e426300",
   "metadata": {},
   "source": [
    "<h2>For how long do guests book their stays?<h2>"
   ]
  },
  {
   "cell_type": "code",
   "execution_count": 136,
   "id": "3a497163",
   "metadata": {},
   "outputs": [
    {
     "data": {
      "text/plain": [
       "count    119390.000000\n",
       "mean          3.427900\n",
       "std           2.557439\n",
       "min           0.000000\n",
       "25%           2.000000\n",
       "50%           3.000000\n",
       "75%           4.000000\n",
       "max          69.000000\n",
       "dtype: float64"
      ]
     },
     "execution_count": 136,
     "metadata": {},
     "output_type": "execute_result"
    }
   ],
   "source": [
    "#calculting the total number of stay by combing all nights within the week\n",
    "\n",
    "book_stays = df['stays_in_weekend_nights'] + df['stays_in_week_nights']\n",
    "\n",
    "book_stays.describe()\n",
    "\n",
    "\n"
   ]
  },
  {
   "cell_type": "code",
   "execution_count": 137,
   "id": "c95b437c",
   "metadata": {},
   "outputs": [
    {
     "name": "stderr",
     "output_type": "stream",
     "text": [
      "/opt/anaconda3/lib/python3.8/site-packages/seaborn/_decorators.py:36: FutureWarning: Pass the following variables as keyword args: x, y. From version 0.12, the only valid positional argument will be `data`, and passing other arguments without an explicit keyword will result in an error or misinterpretation.\n",
      "  warnings.warn(\n"
     ]
    },
    {
     "data": {
      "text/plain": [
       "<AxesSubplot:title={'center':'The distribution of guests per month'}, xlabel='Number of Night', ylabel='Number of Booking'>"
      ]
     },
     "execution_count": 137,
     "metadata": {},
     "output_type": "execute_result"
    },
    {
     "data": {
      "image/png": "[encoded data removed]",
      "text/plain": [
       "<Figure size 1296x360 with 1 Axes>"
      ]
     },
     "metadata": {},
     "output_type": "display_data"
    }
   ],
   "source": [
    "book_stays_counts = book_stays.value_counts()\n",
    "sns.set_style('whitegrid')\n",
    "fig, ax = plt.subplots(figsize=(18, 5))\n",
    "ax.set_title(\"The distribution of guests per month\")\n",
    "ax.set_xlabel('Number of Night')\n",
    "ax.set_ylabel('Number of Booking')\n",
    "\n",
    "sns.lineplot(book_stays_counts.index,book_stays_counts, ax=ax)"
   ]
  },
  {
   "cell_type": "code",
   "execution_count": null,
   "id": "f4e09851",
   "metadata": {},
   "outputs": [],
   "source": []
  },
  {
   "cell_type": "code",
   "execution_count": null,
   "id": "ae22cd10",
   "metadata": {},
   "outputs": [],
   "source": []
  }
 ],
 "metadata": {
  "kernelspec": {
   "display_name": "Python 3",
   "language": "python",
   "name": "python3"
  },
  "language_info": {
   "codemirror_mode": {
    "name": "ipython",
    "version": 3
   },
   "file_extension": ".py",
   "mimetype": "text/x-python",
   "name": "python",
   "nbconvert_exporter": "python",
   "pygments_lexer": "ipython3",
   "version": "3.8.8"
  }
 },
 "nbformat": 4,
 "nbformat_minor": 5
}
